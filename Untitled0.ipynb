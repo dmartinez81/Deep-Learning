{
  "nbformat": 4,
  "nbformat_minor": 0,
  "metadata": {
    "colab": {
      "name": "Untitled0.ipynb",
      "version": "0.3.2",
      "provenance": [],
      "include_colab_link": true
    },
    "kernelspec": {
      "name": "python2",
      "display_name": "Python 2"
    },
    "accelerator": "GPU"
  },
  "cells": [
    {
      "cell_type": "markdown",
      "metadata": {
        "id": "view-in-github",
        "colab_type": "text"
      },
      "source": [
        "<a href=\"https://colab.research.google.com/github/dmartinez81/Deep-Learning/blob/master/Untitled0.ipynb\" target=\"_parent\"><img src=\"https://colab.research.google.com/assets/colab-badge.svg\" alt=\"Open In Colab\"/></a>"
      ]
    },
    {
      "metadata": {
        "id": "S44DtOWBdOG6",
        "colab_type": "code",
        "colab": {
          "base_uri": "https://localhost:8080/",
          "height": 263
        },
        "outputId": "300e41d6-1a34-462d-ec3a-5e0bab4a250c"
      },
      "cell_type": "code",
      "source": [
        "import tensorflow.keras as keras\n",
        "import tensorflow as tf\n",
        "print(tf.__version__)\n",
        "\n",
        "mnist = tf.keras.datasets.mnist\n",
        "(x_train, y_train),(x_test, y_test) = mnist.load_data()\n",
        "\n",
        "x_train = tf.keras.utils.normalize(x_train, axis=1)\n",
        "x_test = tf.keras.utils.normalize(x_test, axis=1)\n",
        "\n",
        "model = tf.keras.models.Sequential()\n",
        "model.add(tf.keras.layers.Flatten())\n",
        "model.add(tf.keras.layers.Dense(128, activation=tf.nn.relu))\n",
        "model.add(tf.keras.layers.Dense(128, activation=tf.nn.relu))\n",
        "model.add(tf.keras.layers.Dense(10, activation=tf.nn.softmax))\n",
        "\n",
        "model.compile(optimizer='adam',\n",
        "              loss='sparse_categorical_crossentropy',\n",
        "              metrics=['accuracy'])\n",
        "\n",
        "model.fit(x_train, y_train, epochs=3)\n",
        "\n",
        "val_loss, val_acc = model.evaluate(x_test, y_test)\n",
        "print(val_loss)\n",
        "print(val_acc)\n",
        "\n",
        "\n"
      ],
      "execution_count": 6,
      "outputs": [
        {
          "output_type": "stream",
          "text": [
            "1.13.1\n",
            "WARNING:tensorflow:From /usr/local/lib/python2.7/dist-packages/tensorflow/python/ops/resource_variable_ops.py:435: colocate_with (from tensorflow.python.framework.ops) is deprecated and will be removed in a future version.\n",
            "Instructions for updating:\n",
            "Colocations handled automatically by placer.\n",
            "Epoch 1/3\n",
            "60000/60000 [==============================] - 10s 165us/sample - loss: 0.2658 - acc: 0.9227\n",
            "Epoch 2/3\n",
            "60000/60000 [==============================] - 9s 150us/sample - loss: 0.1082 - acc: 0.9670\n",
            "Epoch 3/3\n",
            "60000/60000 [==============================] - 9s 156us/sample - loss: 0.0764 - acc: 0.9764\n",
            "10000/10000 [==============================] - 1s 78us/sample - loss: 0.0905 - acc: 0.9726\n",
            "0.09048571694083511\n",
            "0.9726\n"
          ],
          "name": "stdout"
        }
      ]
    },
    {
      "metadata": {
        "id": "zMEnPuicdYOs",
        "colab_type": "code",
        "outputId": "e86ad9f5-fe0b-498c-fa3a-90db4a7c269a",
        "colab": {
          "base_uri": "https://localhost:8080/",
          "height": 298
        }
      },
      "cell_type": "code",
      "source": [
        "model.save('epic_num_reader.model')\n",
        "new_model = tf.keras.models.load_model('epic_num_reader.model')\n",
        "predictions = new_model.predict(x_test)\n",
        "print(predictions)\n",
        "\n",
        "import numpy as np\n",
        "\n",
        "print(np.argmax(predictions[1]))"
      ],
      "execution_count": 11,
      "outputs": [
        {
          "output_type": "stream",
          "text": [
            "WARNING:tensorflow:Sequential models without an `input_shape` passed to the first layer cannot reload their optimizer state. As a result, your model isstarting with a freshly initialized optimizer.\n",
            "[[7.9110594e-09 1.2467517e-07 4.7069043e-06 ... 9.9985731e-01\n",
            "  4.6277915e-08 1.5953615e-06]\n",
            " [5.4368428e-08 3.6058700e-04 9.9962580e-01 ... 4.3469566e-08\n",
            "  4.5237510e-08 1.6427301e-09]\n",
            " [8.4773001e-07 9.9985671e-01 3.2840566e-05 ... 7.3126241e-05\n",
            "  2.4864554e-05 8.7031943e-08]\n",
            " ...\n",
            " [4.1985210e-08 4.8049915e-06 3.4111146e-08 ... 6.9514092e-05\n",
            "  9.4516150e-07 8.8296540e-04]\n",
            " [7.9615102e-06 3.4584158e-08 6.9075595e-10 ... 1.7144549e-08\n",
            "  5.9125181e-05 1.6003566e-08]\n",
            " [5.9172276e-06 1.3004258e-07 6.6971411e-06 ... 5.9001531e-10\n",
            "  1.5331420e-08 6.0377161e-08]]\n",
            "2\n"
          ],
          "name": "stdout"
        }
      ]
    },
    {
      "metadata": {
        "id": "XbXfR3B6dlEI",
        "colab_type": "code",
        "outputId": "6238dda2-4eb7-4466-c50b-70bf6f741b21",
        "colab": {
          "base_uri": "https://localhost:8080/",
          "height": 347
        }
      },
      "cell_type": "code",
      "source": [
        "plt.imshow(x_test[1],cmap=plt.cm.binary)\n",
        "plt.show()"
      ],
      "execution_count": 12,
      "outputs": [
        {
          "output_type": "display_data",
          "data": {
            "image/png": "[encoded data removed]",
            "text/plain": [
              "<Figure size 576x396 with 1 Axes>"
            ]
          },
          "metadata": {
            "tags": []
          }
        }
      ]
    },
    {
      "metadata": {
        "id": "rToV5yVr2wzs",
        "colab_type": "code",
        "colab": {}
      },
      "cell_type": "code",
      "source": [
        ""
      ],
      "execution_count": 0,
      "outputs": []
    }
  ]
}